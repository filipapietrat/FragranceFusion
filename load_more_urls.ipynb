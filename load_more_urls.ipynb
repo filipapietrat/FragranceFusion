{
 "cells": [
  {
   "cell_type": "code",
   "execution_count": null,
   "id": "91164103",
   "metadata": {},
   "outputs": [],
   "source": [
    "from selenium import webdriver\n",
    "from selenium.webdriver.common.by import By\n",
    "from selenium.webdriver.support.ui import WebDriverWait\n",
    "from selenium.webdriver.support import expected_conditions as EC\n",
    "\n",
    "# Set Chrome options to ignore SSL certificate errors\n",
    "chrome_options = webdriver.ChromeOptions()\n",
    "chrome_options.add_argument('--ignore-certificate-errors')\n",
    "\n",
    "# Set up the Chrome WebDriver with the specified options\n",
    "driver = webdriver.Chrome(options=chrome_options)\n",
    "\n",
    "# Navigate to the URL\n",
    "url = \"https://www.wikiparfum.com/en/fragrances?filter-brand=acqua-di-parma#catalogue\"\n",
    "driver.get(url)\n",
    "\n",
    "# Define a function to scroll to the bottom of the page and click the \"Load more fragrances\" button\n",
    "def load_more():\n",
    "    driver.execute_script(\"window.scrollTo(0, document.body.scrollHeight);\")\n",
    "    try:\n",
    "        # Wait until the \"Load more fragrances\" button is clickable\n",
    "        load_more_button = WebDriverWait(driver, 10).until(\n",
    "            EC.element_to_be_clickable((By.CSS_SELECTOR, \"button.focus\\:outline-none\"))\n",
    "        )\n",
    "        # Click the button\n",
    "        load_more_button.click()\n",
    "    except:\n",
    "        pass\n",
    "\n",
    "# Keep clicking the \"Load more fragrances\" button until it's not available anymore\n",
    "while True:\n",
    "    load_more()\n",
    "    # Check if the button is no longer present\n",
    "    if not driver.find_elements(By.CSS_SELECTOR, \"button.focus\\:outline-none\"):\n",
    "        break\n",
    "\n",
    "# Extract hrefs starting with the specified URL\n",
    "fragrance_links = []\n",
    "elems = driver.find_elements(By.XPATH, \"//a[contains(@href, 'https://www.wikiparfum.com/en/fragrances/')]\")\n",
    "for elem in elems:\n",
    "    href = elem.get_attribute(\"href\")\n",
    "    if href.startswith(\"https://www.wikiparfum.com/en/fragrances/\"):\n",
    "        fragrance_links.append(href)\n",
    "\n",
    "# Print the extracted links\n",
    "for link in fragrance_links:\n",
    "    print(link)\n",
    "\n",
    "# Close the WebDriver\n",
    "driver.quit()\n",
    "\n"
   ]
  },
  {
   "cell_type": "code",
   "execution_count": null,
   "id": "a1e03b83",
   "metadata": {},
   "outputs": [],
   "source": []
  },
  {
   "cell_type": "code",
   "execution_count": null,
   "id": "61024488",
   "metadata": {},
   "outputs": [],
   "source": []
  }
 ],
 "metadata": {
  "kernelspec": {
   "display_name": "Python 3 (ipykernel)",
   "language": "python",
   "name": "python3"
  },
  "language_info": {
   "codemirror_mode": {
    "name": "ipython",
    "version": 3
   },
   "file_extension": ".py",
   "mimetype": "text/x-python",
   "name": "python",
   "nbconvert_exporter": "python",
   "pygments_lexer": "ipython3",
   "version": "3.9.13"
  }
 },
 "nbformat": 4,
 "nbformat_minor": 5
}
