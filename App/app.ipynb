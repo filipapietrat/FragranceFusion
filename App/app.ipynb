{
 "cells": [
  {
   "cell_type": "code",
   "execution_count": 1,
   "metadata": {},
   "outputs": [
    {
     "name": "stdout",
     "output_type": "stream",
     "text": [
      " * Serving Flask app \"__main__\" (lazy loading)\n",
      " * Environment: production\n",
      "\u001b[31m   WARNING: This is a development server. Do not use it in a production deployment.\u001b[0m\n",
      "\u001b[2m   Use a production WSGI server instead.\u001b[0m\n",
      " * Debug mode: on\n"
     ]
    },
    {
     "name": "stderr",
     "output_type": "stream",
     "text": [
      " * Running on http://127.0.0.1:5000/ (Press CTRL+C to quit)\n"
     ]
    }
   ],
   "source": [
    "from flask import Flask, render_template, request\n",
    "import csv\n",
    "\n",
    "app = Flask(__name__)\n",
    "\n",
    "# Absolute path to the CSV file\n",
    "CSV_FILE_PATH = \"C:/Users/filip/OneDrive/Desktop/IRONHACK/Final_Project/FragranceFusion/perfumes_with_images_partial.csv\"\n",
    "\n",
    "@app.route('/')\n",
    "def index():\n",
    "    return render_template('index.html')\n",
    "\n",
    "@app.route('/search')\n",
    "def search():\n",
    "    query = request.args.get('query', '').lower()  # Convert search query to lowercase\n",
    "\n",
    "    results = []\n",
    "    with open(CSV_FILE_PATH, newline='', encoding='utf-8') as csvfile:\n",
    "        reader = csv.DictReader(csvfile)\n",
    "        for row in reader:\n",
    "            # Convert relevant row values to lowercase for case-insensitive comparison\n",
    "            row_name = row.get('Name', '').lower()\n",
    "            row_brand = row.get('Brand', '').lower()\n",
    "            row_description = row.get('Description', '').lower()\n",
    "            \n",
    "            # Check if the query matches any of the relevant columns\n",
    "            if query in row_name or query in row_brand or query in row_description:\n",
    "                results.append(row)\n",
    "\n",
    "    if results:\n",
    "        result_html = '<h1>Search Results</h1>'\n",
    "        for result in results:\n",
    "            # Construct HTML for each result including image, name, and brand\n",
    "            result_html += f'<div>'\n",
    "            result_html += f'<img src=\"/static/{result[\"Image_Path\"]}\" alt=\"{result[\"Name\"]}\" width=\"200\">'\n",
    "            result_html += f'<p>{result[\"Name\"]}</p>'\n",
    "            result_html += f'<p>{result[\"Brand\"]}</p>'\n",
    "            result_html += f'</div>'\n",
    "    else:\n",
    "        result_html = f'<h1>No Results Found for \"{request.args.get(\"query\", \"\")}\"</h1>'\n",
    "\n",
    "    return result_html\n",
    "\n",
    "if __name__ == '__main__':\n",
    "    app.run(debug=True, use_reloader=False)\n"
   ]
  },
  {
   "cell_type": "code",
   "execution_count": null,
   "metadata": {},
   "outputs": [],
   "source": []
  }
 ],
 "metadata": {
  "kernelspec": {
   "display_name": "base",
   "language": "python",
   "name": "python3"
  },
  "language_info": {
   "codemirror_mode": {
    "name": "ipython",
    "version": 3
   },
   "file_extension": ".py",
   "mimetype": "text/x-python",
   "name": "python",
   "nbconvert_exporter": "python",
   "pygments_lexer": "ipython3",
   "version": "3.9.13"
  }
 },
 "nbformat": 4,
 "nbformat_minor": 2
}
