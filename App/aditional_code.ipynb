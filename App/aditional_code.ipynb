{
 "cells": [
  {
   "cell_type": "code",
   "execution_count": 2,
   "metadata": {},
   "outputs": [],
   "source": [
    "import os\n",
    "import pandas as pd\n",
    "\n",
    "# Define directory containing CSV files\n",
    "csv_directory = \"C:/Users/filip/OneDrive/Desktop/IRONHACK/Final_Project/FragranceFusion/\"\n",
    "\n",
    "# File names\n",
    "perfumes_csv_file = \"perfumes_with_images_partial.csv\"\n",
    "final_result_csv_file = \"final_result.csv\"\n",
    "\n",
    "# Join directory with file names\n",
    "perfumes_csv_path = os.path.join(csv_directory, perfumes_csv_file)\n",
    "final_result_csv_path = os.path.join(csv_directory, final_result_csv_file)\n",
    "\n",
    "# Load CSV files into pandas DataFrames\n",
    "perfumes_df = pd.read_csv(perfumes_csv_path)\n",
    "final_result_df = pd.read_csv(final_result_csv_path)\n",
    "\n",
    "# Perform the join based on a common column (e.g., 'Absolute URLs_x' and 'Absolute URLs')\n",
    "merged_df = pd.merge(perfumes_df, final_result_df, left_on='Absolute URLs', right_on='Absolute URLs', how='inner')\n",
    "\n",
    "# Save updated DataFrame back to CSV file\n",
    "merged_csv_path = os.path.join(csv_directory, \"merged_data.csv\")\n",
    "merged_df.to_csv(merged_csv_path, index=False)\n",
    "\n",
    "# After preprocessing, you can run your Flask application using the updated CSV files\n"
   ]
  },
  {
   "cell_type": "code",
   "execution_count": null,
   "metadata": {},
   "outputs": [],
   "source": []
  }
 ],
 "metadata": {
  "kernelspec": {
   "display_name": "base",
   "language": "python",
   "name": "python3"
  },
  "language_info": {
   "codemirror_mode": {
    "name": "ipython",
    "version": 3
   },
   "file_extension": ".py",
   "mimetype": "text/x-python",
   "name": "python",
   "nbconvert_exporter": "python",
   "pygments_lexer": "ipython3",
   "version": "3.9.13"
  }
 },
 "nbformat": 4,
 "nbformat_minor": 2
}
